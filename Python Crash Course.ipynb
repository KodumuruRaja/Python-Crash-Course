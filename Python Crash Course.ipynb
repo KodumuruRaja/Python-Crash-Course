{
 "cells": [
  {
   "cell_type": "code",
   "execution_count": 1,
   "metadata": {},
   "outputs": [
    {
     "data": {
      "text/plain": [
       "10"
      ]
     },
     "execution_count": 1,
     "metadata": {},
     "output_type": "execute_result"
    }
   ],
   "source": [
    "a=10\n",
    "a"
   ]
  },
  {
   "cell_type": "code",
   "execution_count": 2,
   "metadata": {},
   "outputs": [
    {
     "data": {
      "text/plain": [
       "20"
      ]
     },
     "execution_count": 2,
     "metadata": {},
     "output_type": "execute_result"
    }
   ],
   "source": [
    "b=20\n",
    "b"
   ]
  },
  {
   "cell_type": "code",
   "execution_count": 3,
   "metadata": {},
   "outputs": [
    {
     "data": {
      "text/plain": [
       "30"
      ]
     },
     "execution_count": 3,
     "metadata": {},
     "output_type": "execute_result"
    }
   ],
   "source": [
    "c=a+b\n",
    "c"
   ]
  },
  {
   "cell_type": "code",
   "execution_count": 4,
   "metadata": {},
   "outputs": [
    {
     "name": "stdout",
     "output_type": "stream",
     "text": [
      "Numbers performed in addition are 10 20\n"
     ]
    }
   ],
   "source": [
    "print(\"Numbers performed in addition are\",a,b)"
   ]
  },
  {
   "cell_type": "code",
   "execution_count": 5,
   "metadata": {},
   "outputs": [
    {
     "name": "stdout",
     "output_type": "stream",
     "text": [
      "The sum is 30\n"
     ]
    }
   ],
   "source": [
    "print(\"The sum is\",c)"
   ]
  },
  {
   "cell_type": "code",
   "execution_count": 6,
   "metadata": {},
   "outputs": [
    {
     "name": "stderr",
     "output_type": "stream",
     "text": [
      "<>:1: SyntaxWarning: \"is\" with a literal. Did you mean \"==\"?\n",
      "<>:1: SyntaxWarning: \"is\" with a literal. Did you mean \"==\"?\n",
      "<ipython-input-6-5a250caff09e>:1: SyntaxWarning: \"is\" with a literal. Did you mean \"==\"?\n",
      "  20 is b\n"
     ]
    },
    {
     "data": {
      "text/plain": [
       "True"
      ]
     },
     "execution_count": 6,
     "metadata": {},
     "output_type": "execute_result"
    }
   ],
   "source": [
    "20 is b"
   ]
  },
  {
   "cell_type": "code",
   "execution_count": 7,
   "metadata": {},
   "outputs": [
    {
     "data": {
      "text/plain": [
       "5"
      ]
     },
     "execution_count": 7,
     "metadata": {},
     "output_type": "execute_result"
    }
   ],
   "source": [
    "2+3"
   ]
  },
  {
   "cell_type": "code",
   "execution_count": 8,
   "metadata": {},
   "outputs": [
    {
     "data": {
      "text/plain": [
       "1"
      ]
     },
     "execution_count": 8,
     "metadata": {},
     "output_type": "execute_result"
    }
   ],
   "source": [
    "3-2"
   ]
  },
  {
   "cell_type": "code",
   "execution_count": 9,
   "metadata": {},
   "outputs": [
    {
     "data": {
      "text/plain": [
       "6"
      ]
     },
     "execution_count": 9,
     "metadata": {},
     "output_type": "execute_result"
    }
   ],
   "source": [
    "2*3"
   ]
  },
  {
   "cell_type": "code",
   "execution_count": 10,
   "metadata": {},
   "outputs": [
    {
     "data": {
      "text/plain": [
       "3.3333333333333335"
      ]
     },
     "execution_count": 10,
     "metadata": {},
     "output_type": "execute_result"
    }
   ],
   "source": [
    "10/3"
   ]
  },
  {
   "cell_type": "code",
   "execution_count": 11,
   "metadata": {},
   "outputs": [
    {
     "data": {
      "text/plain": [
       "3"
      ]
     },
     "execution_count": 11,
     "metadata": {},
     "output_type": "execute_result"
    }
   ],
   "source": [
    "10//3"
   ]
  },
  {
   "cell_type": "code",
   "execution_count": 12,
   "metadata": {},
   "outputs": [
    {
     "data": {
      "text/plain": [
       "1"
      ]
     },
     "execution_count": 12,
     "metadata": {},
     "output_type": "execute_result"
    }
   ],
   "source": [
    "10%3"
   ]
  },
  {
   "cell_type": "code",
   "execution_count": 13,
   "metadata": {},
   "outputs": [
    {
     "data": {
      "text/plain": [
       "9"
      ]
     },
     "execution_count": 13,
     "metadata": {},
     "output_type": "execute_result"
    }
   ],
   "source": [
    "3**2"
   ]
  },
  {
   "cell_type": "code",
   "execution_count": 14,
   "metadata": {},
   "outputs": [
    {
     "data": {
      "text/plain": [
       "625"
      ]
     },
     "execution_count": 14,
     "metadata": {},
     "output_type": "execute_result"
    }
   ],
   "source": [
    "5**4"
   ]
  },
  {
   "cell_type": "code",
   "execution_count": 15,
   "metadata": {},
   "outputs": [
    {
     "data": {
      "text/plain": [
       "3.1666666666666665"
      ]
     },
     "execution_count": 15,
     "metadata": {},
     "output_type": "execute_result"
    }
   ],
   "source": [
    "d=95\n",
    "t=30\n",
    "s=d/t\n",
    "s"
   ]
  },
  {
   "cell_type": "code",
   "execution_count": 16,
   "metadata": {},
   "outputs": [
    {
     "data": {
      "text/plain": [
       "3.17"
      ]
     },
     "execution_count": 16,
     "metadata": {},
     "output_type": "execute_result"
    }
   ],
   "source": [
    "round(s,2)"
   ]
  },
  {
   "cell_type": "code",
   "execution_count": 17,
   "metadata": {},
   "outputs": [
    {
     "data": {
      "text/plain": [
       "0.2999999999999998"
      ]
     },
     "execution_count": 17,
     "metadata": {},
     "output_type": "execute_result"
    }
   ],
   "source": [
    "6-5.7"
   ]
  },
  {
   "cell_type": "code",
   "execution_count": 18,
   "metadata": {},
   "outputs": [
    {
     "data": {
      "text/plain": [
       "0.3"
      ]
     },
     "execution_count": 18,
     "metadata": {},
     "output_type": "execute_result"
    }
   ],
   "source": [
    "round(6-5.7,2)"
   ]
  },
  {
   "cell_type": "code",
   "execution_count": 19,
   "metadata": {},
   "outputs": [
    {
     "data": {
      "text/plain": [
       "'Raja'"
      ]
     },
     "execution_count": 19,
     "metadata": {},
     "output_type": "execute_result"
    }
   ],
   "source": [
    "a=\"Raja\"\n",
    "a"
   ]
  },
  {
   "cell_type": "code",
   "execution_count": 20,
   "metadata": {},
   "outputs": [
    {
     "data": {
      "text/plain": [
       "'Kodumuru'"
      ]
     },
     "execution_count": 20,
     "metadata": {},
     "output_type": "execute_result"
    }
   ],
   "source": [
    "b=\"Kodumuru\"\n",
    "b"
   ]
  },
  {
   "cell_type": "code",
   "execution_count": 21,
   "metadata": {},
   "outputs": [
    {
     "data": {
      "text/plain": [
       "'KodumuruRaja'"
      ]
     },
     "execution_count": 21,
     "metadata": {},
     "output_type": "execute_result"
    }
   ],
   "source": [
    "c=b+a\n",
    "c"
   ]
  },
  {
   "cell_type": "code",
   "execution_count": 22,
   "metadata": {},
   "outputs": [
    {
     "data": {
      "text/plain": [
       "'Kodumuru Raja'"
      ]
     },
     "execution_count": 22,
     "metadata": {},
     "output_type": "execute_result"
    }
   ],
   "source": [
    "z=b+\" \"+a\n",
    "z"
   ]
  },
  {
   "cell_type": "code",
   "execution_count": 23,
   "metadata": {},
   "outputs": [
    {
     "data": {
      "text/plain": [
       "'K'"
      ]
     },
     "execution_count": 23,
     "metadata": {},
     "output_type": "execute_result"
    }
   ],
   "source": [
    "z[0]"
   ]
  },
  {
   "cell_type": "code",
   "execution_count": 24,
   "metadata": {},
   "outputs": [
    {
     "data": {
      "text/plain": [
       "'o'"
      ]
     },
     "execution_count": 24,
     "metadata": {},
     "output_type": "execute_result"
    }
   ],
   "source": [
    "z[1]"
   ]
  },
  {
   "cell_type": "code",
   "execution_count": 25,
   "metadata": {},
   "outputs": [
    {
     "data": {
      "text/plain": [
       "'Kodumuru'"
      ]
     },
     "execution_count": 25,
     "metadata": {},
     "output_type": "execute_result"
    }
   ],
   "source": [
    "z[:8]"
   ]
  },
  {
   "cell_type": "code",
   "execution_count": 26,
   "metadata": {},
   "outputs": [
    {
     "data": {
      "text/plain": [
       "'Kodumur'"
      ]
     },
     "execution_count": 26,
     "metadata": {},
     "output_type": "execute_result"
    }
   ],
   "source": [
    "z[:7]"
   ]
  },
  {
   "cell_type": "code",
   "execution_count": 27,
   "metadata": {},
   "outputs": [
    {
     "data": {
      "text/plain": [
       "'Kodumuru Raj'"
      ]
     },
     "execution_count": 27,
     "metadata": {},
     "output_type": "execute_result"
    }
   ],
   "source": [
    "z[:-1]"
   ]
  },
  {
   "cell_type": "code",
   "execution_count": 28,
   "metadata": {},
   "outputs": [
    {
     "data": {
      "text/plain": [
       "'j'"
      ]
     },
     "execution_count": 28,
     "metadata": {},
     "output_type": "execute_result"
    }
   ],
   "source": [
    "z[-2]"
   ]
  },
  {
   "cell_type": "code",
   "execution_count": 29,
   "metadata": {},
   "outputs": [
    {
     "data": {
      "text/plain": [
       "'ja'"
      ]
     },
     "execution_count": 29,
     "metadata": {},
     "output_type": "execute_result"
    }
   ],
   "source": [
    "z[-2:]"
   ]
  },
  {
   "cell_type": "code",
   "execution_count": 30,
   "metadata": {},
   "outputs": [
    {
     "data": {
      "text/plain": [
       "'Kodumuru Ra'"
      ]
     },
     "execution_count": 30,
     "metadata": {},
     "output_type": "execute_result"
    }
   ],
   "source": [
    "z[:-2]"
   ]
  },
  {
   "cell_type": "code",
   "execution_count": 31,
   "metadata": {},
   "outputs": [
    {
     "data": {
      "text/plain": [
       "'Raja'"
      ]
     },
     "execution_count": 31,
     "metadata": {},
     "output_type": "execute_result"
    }
   ],
   "source": [
    "a=\"Raja\"\n",
    "a"
   ]
  },
  {
   "cell_type": "code",
   "execution_count": 32,
   "metadata": {},
   "outputs": [
    {
     "data": {
      "text/plain": [
       "\"Raja's\""
      ]
     },
     "execution_count": 32,
     "metadata": {},
     "output_type": "execute_result"
    }
   ],
   "source": [
    "s=\"Raja's\"\n",
    "s"
   ]
  },
  {
   "cell_type": "code",
   "execution_count": 33,
   "metadata": {},
   "outputs": [
    {
     "data": {
      "text/plain": [
       "\"Raja's\""
      ]
     },
     "execution_count": 33,
     "metadata": {},
     "output_type": "execute_result"
    }
   ],
   "source": [
    "q=\"Raja\\'s\"\n",
    "q"
   ]
  },
  {
   "cell_type": "code",
   "execution_count": 34,
   "metadata": {},
   "outputs": [
    {
     "data": {
      "text/plain": [
       "'My favourite number is 1'"
      ]
     },
     "execution_count": 34,
     "metadata": {},
     "output_type": "execute_result"
    }
   ],
   "source": [
    "d=\"My favourite number is\"\n",
    "e=1\n",
    "f=d+\" \"+str(e)\n",
    "f"
   ]
  },
  {
   "cell_type": "code",
   "execution_count": 35,
   "metadata": {},
   "outputs": [
    {
     "data": {
      "text/plain": [
       "['Raja', 'Nivi', 'Rishi', 'Dharani']"
      ]
     },
     "execution_count": 35,
     "metadata": {},
     "output_type": "execute_result"
    }
   ],
   "source": [
    "l=[\"Raja\",\"Nivi\",\"Rishi\",\"Dharani\"]\n",
    "l"
   ]
  },
  {
   "cell_type": "code",
   "execution_count": 36,
   "metadata": {},
   "outputs": [
    {
     "data": {
      "text/plain": [
       "'Raja'"
      ]
     },
     "execution_count": 36,
     "metadata": {},
     "output_type": "execute_result"
    }
   ],
   "source": [
    "l[0]"
   ]
  },
  {
   "cell_type": "code",
   "execution_count": 37,
   "metadata": {},
   "outputs": [
    {
     "data": {
      "text/plain": [
       "'Nivi'"
      ]
     },
     "execution_count": 37,
     "metadata": {},
     "output_type": "execute_result"
    }
   ],
   "source": [
    "l[1]"
   ]
  },
  {
   "cell_type": "code",
   "execution_count": 38,
   "metadata": {},
   "outputs": [
    {
     "data": {
      "text/plain": [
       "['Raja', 'Nivi', 'Rishi']"
      ]
     },
     "execution_count": 38,
     "metadata": {},
     "output_type": "execute_result"
    }
   ],
   "source": [
    "l[0:3]"
   ]
  },
  {
   "cell_type": "code",
   "execution_count": 39,
   "metadata": {},
   "outputs": [
    {
     "data": {
      "text/plain": [
       "'Dharani'"
      ]
     },
     "execution_count": 39,
     "metadata": {},
     "output_type": "execute_result"
    }
   ],
   "source": [
    "l[-1]"
   ]
  },
  {
   "cell_type": "code",
   "execution_count": 40,
   "metadata": {},
   "outputs": [
    {
     "data": {
      "text/plain": [
       "['Rishi', 'Dharani']"
      ]
     },
     "execution_count": 40,
     "metadata": {},
     "output_type": "execute_result"
    }
   ],
   "source": [
    "l[-2:]"
   ]
  },
  {
   "cell_type": "code",
   "execution_count": 41,
   "metadata": {},
   "outputs": [
    {
     "data": {
      "text/plain": [
       "['Raja', 'Nivi', 'Rishi']"
      ]
     },
     "execution_count": 41,
     "metadata": {},
     "output_type": "execute_result"
    }
   ],
   "source": [
    "l[:-1]"
   ]
  },
  {
   "cell_type": "code",
   "execution_count": 42,
   "metadata": {},
   "outputs": [
    {
     "data": {
      "text/plain": [
       "['Raja', 'Nivi', 'Rishi', 'Radhika']"
      ]
     },
     "execution_count": 42,
     "metadata": {},
     "output_type": "execute_result"
    }
   ],
   "source": [
    "l[3]=\"Radhika\"\n",
    "l"
   ]
  },
  {
   "cell_type": "code",
   "execution_count": 43,
   "metadata": {},
   "outputs": [
    {
     "data": {
      "text/plain": [
       "['Raja', 'Nivi', 'Rishi', 'Radhika', 'Dharani']"
      ]
     },
     "execution_count": 43,
     "metadata": {},
     "output_type": "execute_result"
    }
   ],
   "source": [
    "l.append(\"Dharani\")\n",
    "l"
   ]
  },
  {
   "cell_type": "code",
   "execution_count": 44,
   "metadata": {},
   "outputs": [
    {
     "data": {
      "text/plain": [
       "['Raja', 'Nivi', 'Rishi', 'Bhavana', 'Radhika', 'Dharani']"
      ]
     },
     "execution_count": 44,
     "metadata": {},
     "output_type": "execute_result"
    }
   ],
   "source": [
    "l.insert(3,\"Bhavana\")\n",
    "l"
   ]
  },
  {
   "cell_type": "code",
   "execution_count": 45,
   "metadata": {},
   "outputs": [
    {
     "data": {
      "text/plain": [
       "['Raja', 'Nivi']"
      ]
     },
     "execution_count": 45,
     "metadata": {},
     "output_type": "execute_result"
    }
   ],
   "source": [
    "l1=[\"Raja\"]\n",
    "l2=[\"Nivi\"]\n",
    "l3=l1+l2\n",
    "l3"
   ]
  },
  {
   "cell_type": "code",
   "execution_count": 46,
   "metadata": {},
   "outputs": [
    {
     "data": {
      "text/plain": [
       "['Raja', 'Nivi']"
      ]
     },
     "execution_count": 46,
     "metadata": {},
     "output_type": "execute_result"
    }
   ],
   "source": [
    "l3"
   ]
  },
  {
   "cell_type": "code",
   "execution_count": 47,
   "metadata": {},
   "outputs": [
    {
     "data": {
      "text/plain": [
       "2"
      ]
     },
     "execution_count": 47,
     "metadata": {},
     "output_type": "execute_result"
    }
   ],
   "source": [
    "len(l3)"
   ]
  },
  {
   "cell_type": "code",
   "execution_count": 48,
   "metadata": {},
   "outputs": [
    {
     "data": {
      "text/plain": [
       "True"
      ]
     },
     "execution_count": 48,
     "metadata": {},
     "output_type": "execute_result"
    }
   ],
   "source": [
    "\"Raja\" in l3"
   ]
  },
  {
   "cell_type": "code",
   "execution_count": 49,
   "metadata": {},
   "outputs": [
    {
     "data": {
      "text/plain": [
       "50.0"
      ]
     },
     "execution_count": 49,
     "metadata": {},
     "output_type": "execute_result"
    }
   ],
   "source": [
    "base=10\n",
    "height=10\n",
    "area=0.5*base*height\n",
    "area"
   ]
  },
  {
   "cell_type": "code",
   "execution_count": 50,
   "metadata": {},
   "outputs": [
    {
     "name": "stdout",
     "output_type": "stream",
     "text": [
      "Please enter the number8\n",
      "8 is a Even Number\n"
     ]
    }
   ],
   "source": [
    "a=int(input(\"Please enter the number\"))\n",
    "if a%2==0:\n",
    "    print(a,\"is a Even Number\")\n",
    "else:\n",
    "    print(a,\"is a Odd Number\")"
   ]
  },
  {
   "cell_type": "code",
   "execution_count": 51,
   "metadata": {},
   "outputs": [
    {
     "name": "stdout",
     "output_type": "stream",
     "text": [
      "Enter the dish namesamosa\n",
      "It is an Indian Dish\n"
     ]
    }
   ],
   "source": [
    "indian=[\"samosa\",\"daal\",\"naan\"]\n",
    "chineese=[\"egg role\",\"pot sticker\",\"noodles\",\"fried rice\"]\n",
    "italian=[\"pizza\",\"pasta\",\"risotto\"]\n",
    "dish=input(\"Enter the dish name\")\n",
    "if dish in indian:\n",
    "    print(\"It is an Indian Dish\")\n",
    "elif dish in chineese:\n",
    "    print(\"It is an Chineese Dish\")\n",
    "elif dish in italian:\n",
    "    print(\"It is an Italian Dish\")\n",
    "else:\n",
    "    print(\"I don't know\")"
   ]
  },
  {
   "cell_type": "code",
   "execution_count": 52,
   "metadata": {},
   "outputs": [
    {
     "data": {
      "text/plain": [
       "[5500]"
      ]
     },
     "execution_count": 52,
     "metadata": {},
     "output_type": "execute_result"
    }
   ],
   "source": [
    "exp=[100,200,300,400,500,600,700,800,900,1000]\n",
    "total=[]\n",
    "sum=0\n",
    "for i in exp:\n",
    "    sum+=i\n",
    "total.append(sum)\n",
    "total"
   ]
  },
  {
   "cell_type": "code",
   "execution_count": 53,
   "metadata": {},
   "outputs": [
    {
     "data": {
      "text/plain": [
       "1"
      ]
     },
     "execution_count": 53,
     "metadata": {},
     "output_type": "execute_result"
    }
   ],
   "source": [
    "len(total)"
   ]
  },
  {
   "cell_type": "code",
   "execution_count": 54,
   "metadata": {},
   "outputs": [
    {
     "name": "stdout",
     "output_type": "stream",
     "text": [
      "1\n",
      "2\n",
      "3\n",
      "4\n",
      "5\n",
      "6\n",
      "7\n",
      "8\n",
      "9\n",
      "10\n"
     ]
    }
   ],
   "source": [
    "for i in range(1,11):\n",
    "    print(i)"
   ]
  },
  {
   "cell_type": "code",
   "execution_count": 55,
   "metadata": {},
   "outputs": [
    {
     "name": "stdout",
     "output_type": "stream",
     "text": [
      "1\n",
      "4\n",
      "9\n",
      "16\n",
      "25\n",
      "36\n",
      "49\n",
      "64\n",
      "81\n",
      "100\n"
     ]
    }
   ],
   "source": [
    "for i in range(1,11):\n",
    "    print(i*i)"
   ]
  },
  {
   "cell_type": "code",
   "execution_count": 56,
   "metadata": {},
   "outputs": [
    {
     "name": "stdout",
     "output_type": "stream",
     "text": [
      "Month Number 1 Monthly Expense 100 and Total expense is 5500\n",
      "Month Number 2 Monthly Expense 200 and Total expense is 5500\n",
      "Month Number 3 Monthly Expense 300 and Total expense is 5500\n",
      "Month Number 4 Monthly Expense 400 and Total expense is 5500\n",
      "Month Number 5 Monthly Expense 500 and Total expense is 5500\n",
      "Month Number 6 Monthly Expense 600 and Total expense is 5500\n",
      "Month Number 7 Monthly Expense 700 and Total expense is 5500\n",
      "Month Number 8 Monthly Expense 800 and Total expense is 5500\n",
      "Month Number 9 Monthly Expense 900 and Total expense is 5500\n",
      "Month Number 10 Monthly Expense 1000 and Total expense is 5500\n"
     ]
    }
   ],
   "source": [
    "exp=[100,200,300,400,500,600,700,800,900,1000]\n",
    "Total=0\n",
    "for x in exp:\n",
    "    Total+=x\n",
    "Total\n",
    "    \n",
    "for i,n in enumerate(exp):\n",
    "    print(\"Month Number\",i+1,\"Monthly Expense\",n,\"and Total expense is\",Total)"
   ]
  },
  {
   "cell_type": "code",
   "execution_count": 57,
   "metadata": {},
   "outputs": [
    {
     "name": "stdout",
     "output_type": "stream",
     "text": [
      "Month Number 1 Monthly Expense 100\n",
      "Month Number 2 Monthly Expense 200\n",
      "Month Number 3 Monthly Expense 300\n",
      "Month Number 4 Monthly Expense 400\n",
      "Month Number 5 Monthly Expense 500\n",
      "Month Number 6 Monthly Expense 600\n",
      "Month Number 7 Monthly Expense 700\n",
      "Month Number 8 Monthly Expense 800\n",
      "Month Number 9 Monthly Expense 900\n",
      "Month Number 10 Monthly Expense 1000\n",
      "Total expense is 5500\n"
     ]
    }
   ],
   "source": [
    "exp=[100,200,300,400,500,600,700,800,900,1000]\n",
    "Total=0\n",
    "for i,n in enumerate(exp):\n",
    "    print(\"Month Number\",i+1,\"Monthly Expense\",n)\n",
    "    Total+=n\n",
    "print(\"Total expense is\",Total)"
   ]
  },
  {
   "cell_type": "code",
   "execution_count": 58,
   "metadata": {},
   "outputs": [
    {
     "name": "stdout",
     "output_type": "stream",
     "text": [
      "Not Found\n",
      "Not Found\n",
      "Not Found\n",
      "Not Found\n",
      "Found\n"
     ]
    }
   ],
   "source": [
    "a=5\n",
    "b=[1,2,3,4,5]\n",
    "for i in b:\n",
    "    if i==a:\n",
    "        print(\"Found\")\n",
    "        break\n",
    "    else:\n",
    "        print(\"Not Found\")"
   ]
  },
  {
   "cell_type": "code",
   "execution_count": 59,
   "metadata": {},
   "outputs": [
    {
     "name": "stdout",
     "output_type": "stream",
     "text": [
      "1\n",
      "9\n",
      "25\n"
     ]
    }
   ],
   "source": [
    "a=[1,2,3,4,5]\n",
    "for i in a:\n",
    "    if i%2==0:\n",
    "        continue\n",
    "    else:\n",
    "        print(i*i)"
   ]
  },
  {
   "cell_type": "code",
   "execution_count": 60,
   "metadata": {},
   "outputs": [
    {
     "name": "stdout",
     "output_type": "stream",
     "text": [
      "1\n",
      "4\n",
      "9\n",
      "16\n",
      "25\n"
     ]
    }
   ],
   "source": [
    "i=1\n",
    "while i<=5:\n",
    "    print(i*i)\n",
    "    i+=1"
   ]
  },
  {
   "cell_type": "code",
   "execution_count": 61,
   "metadata": {},
   "outputs": [
    {
     "name": "stdout",
     "output_type": "stream",
     "text": [
      "1\n",
      "4\n",
      "9\n",
      "16\n",
      "25\n"
     ]
    }
   ],
   "source": [
    "i=1\n",
    "while i<=5:\n",
    "    print(i*i)\n",
    "    i+=1"
   ]
  },
  {
   "cell_type": "code",
   "execution_count": 62,
   "metadata": {},
   "outputs": [
    {
     "data": {
      "text/plain": [
       "600"
      ]
     },
     "execution_count": 62,
     "metadata": {},
     "output_type": "execute_result"
    }
   ],
   "source": [
    "def calculate(exp):\n",
    "    total=0\n",
    "    for i in exp:\n",
    "        total+=i\n",
    "    return total\n",
    "l1=[100,200,300]\n",
    "l2=[400,500,600]\n",
    "calculate(l1)"
   ]
  },
  {
   "cell_type": "code",
   "execution_count": 63,
   "metadata": {},
   "outputs": [
    {
     "data": {
      "text/plain": [
       "1500"
      ]
     },
     "execution_count": 63,
     "metadata": {},
     "output_type": "execute_result"
    }
   ],
   "source": [
    "calculate(l2)"
   ]
  },
  {
   "cell_type": "code",
   "execution_count": 64,
   "metadata": {},
   "outputs": [
    {
     "data": {
      "text/plain": [
       "15"
      ]
     },
     "execution_count": 64,
     "metadata": {},
     "output_type": "execute_result"
    }
   ],
   "source": [
    "def sum(a,b):\n",
    "    c=a+b\n",
    "    return c\n",
    "sum(5,10)"
   ]
  },
  {
   "cell_type": "code",
   "execution_count": 65,
   "metadata": {},
   "outputs": [
    {
     "data": {
      "text/plain": [
       "{'Raja': 15, 'Nivi': 14, 'Rishi': 13}"
      ]
     },
     "execution_count": 65,
     "metadata": {},
     "output_type": "execute_result"
    }
   ],
   "source": [
    "a={\"Raja\":15,\"Nivi\":14,\"Rishi\":13}\n",
    "a"
   ]
  },
  {
   "cell_type": "code",
   "execution_count": 66,
   "metadata": {},
   "outputs": [
    {
     "data": {
      "text/plain": [
       "15"
      ]
     },
     "execution_count": 66,
     "metadata": {},
     "output_type": "execute_result"
    }
   ],
   "source": [
    "a[\"Raja\"]"
   ]
  },
  {
   "cell_type": "code",
   "execution_count": 67,
   "metadata": {},
   "outputs": [
    {
     "data": {
      "text/plain": [
       "14"
      ]
     },
     "execution_count": 67,
     "metadata": {},
     "output_type": "execute_result"
    }
   ],
   "source": [
    "a[\"Nivi\"]"
   ]
  },
  {
   "cell_type": "code",
   "execution_count": 68,
   "metadata": {},
   "outputs": [
    {
     "data": {
      "text/plain": [
       "3"
      ]
     },
     "execution_count": 68,
     "metadata": {},
     "output_type": "execute_result"
    }
   ],
   "source": [
    "len(a)"
   ]
  },
  {
   "cell_type": "code",
   "execution_count": 69,
   "metadata": {},
   "outputs": [
    {
     "data": {
      "text/plain": [
       "{'Raja': 15, 'Nivi': 14, 'Rishi': 13, 'Dharani': 567}"
      ]
     },
     "execution_count": 69,
     "metadata": {},
     "output_type": "execute_result"
    }
   ],
   "source": [
    "a[\"Dharani\"]=567\n",
    "a"
   ]
  },
  {
   "cell_type": "code",
   "execution_count": 70,
   "metadata": {},
   "outputs": [
    {
     "data": {
      "text/plain": [
       "{'Raja': 15, 'Nivi': 14, 'Rishi': 13}"
      ]
     },
     "execution_count": 70,
     "metadata": {},
     "output_type": "execute_result"
    }
   ],
   "source": [
    "del a[\"Dharani\"]\n",
    "a"
   ]
  },
  {
   "cell_type": "code",
   "execution_count": 71,
   "metadata": {},
   "outputs": [
    {
     "name": "stdout",
     "output_type": "stream",
     "text": [
      "Raja\n",
      "Nivi\n",
      "Rishi\n"
     ]
    }
   ],
   "source": [
    "for key in a:\n",
    "    print(key)"
   ]
  },
  {
   "cell_type": "code",
   "execution_count": 72,
   "metadata": {},
   "outputs": [
    {
     "name": "stdout",
     "output_type": "stream",
     "text": [
      "15\n",
      "14\n",
      "13\n"
     ]
    }
   ],
   "source": [
    "for value in a:\n",
    "    print(a[value])"
   ]
  },
  {
   "cell_type": "code",
   "execution_count": 73,
   "metadata": {},
   "outputs": [
    {
     "name": "stdout",
     "output_type": "stream",
     "text": [
      "Raja is 15\n",
      "Nivi is 14\n",
      "Rishi is 13\n"
     ]
    }
   ],
   "source": [
    "for key,value in a.items():\n",
    "    print(key,\"is\",value)"
   ]
  },
  {
   "cell_type": "code",
   "execution_count": 74,
   "metadata": {},
   "outputs": [
    {
     "data": {
      "text/plain": [
       "True"
      ]
     },
     "execution_count": 74,
     "metadata": {},
     "output_type": "execute_result"
    }
   ],
   "source": [
    "\"Raja\" in a"
   ]
  },
  {
   "cell_type": "code",
   "execution_count": 75,
   "metadata": {},
   "outputs": [
    {
     "data": {
      "text/plain": [
       "{}"
      ]
     },
     "execution_count": 75,
     "metadata": {},
     "output_type": "execute_result"
    }
   ],
   "source": [
    "a.clear()\n",
    "a"
   ]
  },
  {
   "cell_type": "code",
   "execution_count": 76,
   "metadata": {},
   "outputs": [
    {
     "data": {
      "text/plain": [
       "(1, 2, 3)"
      ]
     },
     "execution_count": 76,
     "metadata": {},
     "output_type": "execute_result"
    }
   ],
   "source": [
    "a=(1,2,3)\n",
    "a"
   ]
  },
  {
   "cell_type": "code",
   "execution_count": 77,
   "metadata": {},
   "outputs": [
    {
     "data": {
      "text/plain": [
       "1"
      ]
     },
     "execution_count": 77,
     "metadata": {},
     "output_type": "execute_result"
    }
   ],
   "source": [
    "a[0]"
   ]
  },
  {
   "cell_type": "code",
   "execution_count": 78,
   "metadata": {},
   "outputs": [
    {
     "data": {
      "text/plain": [
       "2"
      ]
     },
     "execution_count": 78,
     "metadata": {},
     "output_type": "execute_result"
    }
   ],
   "source": [
    "a[1]"
   ]
  },
  {
   "cell_type": "code",
   "execution_count": 79,
   "metadata": {},
   "outputs": [
    {
     "data": {
      "text/plain": [
       "(1, 2, 3)"
      ]
     },
     "execution_count": 79,
     "metadata": {},
     "output_type": "execute_result"
    }
   ],
   "source": [
    "a[0:3]"
   ]
  },
  {
   "cell_type": "code",
   "execution_count": 80,
   "metadata": {},
   "outputs": [
    {
     "data": {
      "text/plain": [
       "2.23606797749979"
      ]
     },
     "execution_count": 80,
     "metadata": {},
     "output_type": "execute_result"
    }
   ],
   "source": [
    "import math\n",
    "math.sqrt(5)"
   ]
  },
  {
   "cell_type": "code",
   "execution_count": 81,
   "metadata": {},
   "outputs": [
    {
     "data": {
      "text/plain": [
       "32.0"
      ]
     },
     "execution_count": 81,
     "metadata": {},
     "output_type": "execute_result"
    }
   ],
   "source": [
    "math.pow(2,5)"
   ]
  },
  {
   "cell_type": "code",
   "execution_count": 82,
   "metadata": {},
   "outputs": [
    {
     "data": {
      "text/plain": [
       "25.0"
      ]
     },
     "execution_count": 82,
     "metadata": {},
     "output_type": "execute_result"
    }
   ],
   "source": [
    "math.pow(5,2)"
   ]
  },
  {
   "cell_type": "code",
   "execution_count": 83,
   "metadata": {},
   "outputs": [
    {
     "data": {
      "text/plain": [
       "2.0"
      ]
     },
     "execution_count": 83,
     "metadata": {},
     "output_type": "execute_result"
    }
   ],
   "source": [
    "math.log10(100)"
   ]
  },
  {
   "cell_type": "code",
   "execution_count": 84,
   "metadata": {},
   "outputs": [
    {
     "data": {
      "text/plain": [
       "2"
      ]
     },
     "execution_count": 84,
     "metadata": {},
     "output_type": "execute_result"
    }
   ],
   "source": [
    "math.floor(2.3)"
   ]
  },
  {
   "cell_type": "code",
   "execution_count": 85,
   "metadata": {},
   "outputs": [
    {
     "data": {
      "text/plain": [
       "3"
      ]
     },
     "execution_count": 85,
     "metadata": {},
     "output_type": "execute_result"
    }
   ],
   "source": [
    "math.ceil(2.3)"
   ]
  },
  {
   "cell_type": "code",
   "execution_count": 86,
   "metadata": {},
   "outputs": [
    {
     "data": {
      "text/plain": [
       "'    January 2016\\nMo Tu We Th Fr Sa Su\\n             1  2  3\\n 4  5  6  7  8  9 10\\n11 12 13 14 15 16 17\\n18 19 20 21 22 23 24\\n25 26 27 28 29 30 31\\n'"
      ]
     },
     "execution_count": 86,
     "metadata": {},
     "output_type": "execute_result"
    }
   ],
   "source": [
    "import calendar\n",
    "calendar.month(2016,1)"
   ]
  },
  {
   "cell_type": "code",
   "execution_count": 87,
   "metadata": {},
   "outputs": [
    {
     "data": {
      "text/plain": [
       "True"
      ]
     },
     "execution_count": 87,
     "metadata": {},
     "output_type": "execute_result"
    }
   ],
   "source": [
    "calendar.isleap(2012)"
   ]
  },
  {
   "cell_type": "code",
   "execution_count": 88,
   "metadata": {},
   "outputs": [
    {
     "data": {
      "text/plain": [
       "False"
      ]
     },
     "execution_count": 88,
     "metadata": {},
     "output_type": "execute_result"
    }
   ],
   "source": [
    "calendar.isleap(2015)"
   ]
  },
  {
   "cell_type": "code",
   "execution_count": 89,
   "metadata": {},
   "outputs": [
    {
     "data": {
      "text/plain": [
       "'{\"raja\": {\"name\": \"Raja\", \"roll_no\": 15}, \"Nivi\": {\"name\": \"Niveditha\", \"roll_no\": 14}}'"
      ]
     },
     "execution_count": 89,
     "metadata": {},
     "output_type": "execute_result"
    }
   ],
   "source": [
    "details={}\n",
    "details['raja']={\n",
    "    'name':'Raja',\n",
    "    'roll_no':15\n",
    "}\n",
    "details['Nivi']={\n",
    "    'name':'Niveditha',\n",
    "    'roll_no':14\n",
    "}\n",
    "import json\n",
    "json.dumps(details)"
   ]
  },
  {
   "cell_type": "code",
   "execution_count": 90,
   "metadata": {},
   "outputs": [],
   "source": [
    "details={}\n",
    "details['raja']={\n",
    "    'name':'Raja',\n",
    "    'roll_no':15\n",
    "}\n",
    "details['Nivi']={\n",
    "    'name':'Niveditha',\n",
    "    'roll_no':14\n",
    "}\n",
    "import json\n",
    "s=json.dumps(details)\n",
    "with open(\"C:/Users/raja asus/Desktop/json.txt\",\"w\") as f:\n",
    "    f.write(s)"
   ]
  },
  {
   "cell_type": "code",
   "execution_count": 91,
   "metadata": {},
   "outputs": [
    {
     "data": {
      "text/plain": [
       "'{\"raja\": {\"name\": \"Raja\", \"roll_no\": 15}, \"Nivi\": {\"name\": \"Niveditha\", \"roll_no\": 14}}'"
      ]
     },
     "execution_count": 91,
     "metadata": {},
     "output_type": "execute_result"
    }
   ],
   "source": [
    "f=open(\"C:/Users/raja asus/Desktop/json.txt\",\"r\")\n",
    "f.read()"
   ]
  },
  {
   "cell_type": "code",
   "execution_count": 92,
   "metadata": {},
   "outputs": [
    {
     "data": {
      "text/plain": [
       "{'raja': {'name': 'Raja', 'roll_no': 15},\n",
       " 'Nivi': {'name': 'Niveditha', 'roll_no': 14}}"
      ]
     },
     "execution_count": 92,
     "metadata": {},
     "output_type": "execute_result"
    }
   ],
   "source": [
    "f=open(\"C:/Users/raja asus/Desktop/json.txt\",\"r\")\n",
    "s=f.read()\n",
    "import json\n",
    "json.loads(s)"
   ]
  },
  {
   "cell_type": "code",
   "execution_count": 93,
   "metadata": {},
   "outputs": [
    {
     "data": {
      "text/plain": [
       "dict"
      ]
     },
     "execution_count": 93,
     "metadata": {},
     "output_type": "execute_result"
    }
   ],
   "source": [
    "type(details)"
   ]
  },
  {
   "cell_type": "code",
   "execution_count": 94,
   "metadata": {},
   "outputs": [
    {
     "data": {
      "text/plain": [
       "{'name': 'Raja', 'roll_no': 15}"
      ]
     },
     "execution_count": 94,
     "metadata": {},
     "output_type": "execute_result"
    }
   ],
   "source": [
    "details['raja']"
   ]
  },
  {
   "cell_type": "code",
   "execution_count": 95,
   "metadata": {},
   "outputs": [
    {
     "data": {
      "text/plain": [
       "'Raja'"
      ]
     },
     "execution_count": 95,
     "metadata": {},
     "output_type": "execute_result"
    }
   ],
   "source": [
    "details['raja']['name']"
   ]
  },
  {
   "cell_type": "code",
   "execution_count": 96,
   "metadata": {},
   "outputs": [
    {
     "name": "stdout",
     "output_type": "stream",
     "text": [
      "{'name': 'Raja', 'roll_no': 15}\n",
      "{'name': 'Niveditha', 'roll_no': 14}\n"
     ]
    }
   ],
   "source": [
    "for i in details:\n",
    "    print(details[i])"
   ]
  },
  {
   "cell_type": "code",
   "execution_count": 97,
   "metadata": {},
   "outputs": [],
   "source": [
    "f=open(\"C:/Users/raja asus/Desktop/json.txt\",\"w\")\n",
    "f.write(\"I am a Raja\")\n",
    "f.close()"
   ]
  },
  {
   "cell_type": "code",
   "execution_count": 98,
   "metadata": {},
   "outputs": [],
   "source": [
    "f=open(\"C:/Users/raja asus/Desktop/json.txt\",\"a\")\n",
    "f.write(\"\\nI love AI&ML\")\n",
    "f.close()"
   ]
  },
  {
   "cell_type": "code",
   "execution_count": 99,
   "metadata": {},
   "outputs": [
    {
     "data": {
      "text/plain": [
       "'I am a Raja\\nI love AI&ML'"
      ]
     },
     "execution_count": 99,
     "metadata": {},
     "output_type": "execute_result"
    }
   ],
   "source": [
    "f=open(\"C:/Users/raja asus/Desktop/json.txt\",\"r\")\n",
    "f.read()"
   ]
  },
  {
   "cell_type": "code",
   "execution_count": 100,
   "metadata": {},
   "outputs": [
    {
     "name": "stdout",
     "output_type": "stream",
     "text": [
      "I am a Raja\n",
      "I love AI&ML\n"
     ]
    }
   ],
   "source": [
    "f=open(\"C:/Users/raja asus/Desktop/json.txt\",\"r\")\n",
    "print(f.read())\n",
    "f.close()"
   ]
  },
  {
   "cell_type": "code",
   "execution_count": 101,
   "metadata": {},
   "outputs": [
    {
     "name": "stdout",
     "output_type": "stream",
     "text": [
      "I am a Raja\n",
      "\n",
      "I love AI&ML\n"
     ]
    }
   ],
   "source": [
    "f=open(\"C:/Users/raja asus/Desktop/json.txt\",\"r\")\n",
    "for line in f:\n",
    "    print(line)\n",
    "f.close()"
   ]
  },
  {
   "cell_type": "code",
   "execution_count": 102,
   "metadata": {},
   "outputs": [
    {
     "name": "stdout",
     "output_type": "stream",
     "text": [
      "['I', 'am', 'a', 'Raja\\n']\n",
      "['I', 'love', 'AI&ML']\n"
     ]
    }
   ],
   "source": [
    "f=open(\"C:/Users/raja asus/Desktop/json.txt\",\"r\")\n",
    "for line in f:\n",
    "    tokens=line.split(' ')\n",
    "    print(str(tokens))\n",
    "f.close()"
   ]
  },
  {
   "cell_type": "code",
   "execution_count": 103,
   "metadata": {},
   "outputs": [
    {
     "name": "stdout",
     "output_type": "stream",
     "text": [
      "4\n",
      "3\n"
     ]
    }
   ],
   "source": [
    "f=open(\"C:/Users/raja asus/Desktop/json.txt\",\"r\")\n",
    "for line in f:\n",
    "    tokens=line.split(' ')\n",
    "    print(len(tokens))\n",
    "f.close()"
   ]
  },
  {
   "cell_type": "code",
   "execution_count": 104,
   "metadata": {},
   "outputs": [
    {
     "name": "stdout",
     "output_type": "stream",
     "text": [
      "I am a Raja\n",
      "I love AI&ML\n"
     ]
    }
   ],
   "source": [
    "with open(\"C:/Users/raja asus/Desktop/json.txt\",\"r\") as f:\n",
    "    print(f.read())"
   ]
  },
  {
   "cell_type": "code",
   "execution_count": 105,
   "metadata": {},
   "outputs": [
    {
     "name": "stdout",
     "output_type": "stream",
     "text": [
      "Area is 100.0\n"
     ]
    }
   ],
   "source": [
    "def area(a,b):\n",
    "    return 0.5*a*b\n",
    "if __name__==\"__main__\":\n",
    "    z=area(10,20)\n",
    "    print(\"Area is\",z)"
   ]
  },
  {
   "cell_type": "code",
   "execution_count": 106,
   "metadata": {},
   "outputs": [
    {
     "name": "stdout",
     "output_type": "stream",
     "text": [
      "__name__: __main__\n",
      "Area is 100.0\n"
     ]
    }
   ],
   "source": [
    "def area(a,b):\n",
    "    print(\"__name__:\",__name__)\n",
    "    return 0.5*a*b\n",
    "if __name__==\"__main__\":\n",
    "    z=area(10,20)\n",
    "    print(\"Area is\",z)"
   ]
  },
  {
   "cell_type": "code",
   "execution_count": 107,
   "metadata": {},
   "outputs": [
    {
     "name": "stdout",
     "output_type": "stream",
     "text": [
      "Exception\n"
     ]
    }
   ],
   "source": [
    "try:\n",
    "    a=5\n",
    "    b=0\n",
    "    c=a/b\n",
    "except:\n",
    "    print(\"Exception\")"
   ]
  },
  {
   "cell_type": "code",
   "execution_count": 108,
   "metadata": {},
   "outputs": [
    {
     "name": "stdout",
     "output_type": "stream",
     "text": [
      "1.0\n"
     ]
    }
   ],
   "source": [
    "try:\n",
    "    a=5\n",
    "    b=0\n",
    "    c=a/b\n",
    "except:\n",
    "    b=5\n",
    "    c=a/b\n",
    "    print(c)"
   ]
  },
  {
   "cell_type": "code",
   "execution_count": 109,
   "metadata": {},
   "outputs": [
    {
     "name": "stdout",
     "output_type": "stream",
     "text": [
      "Exception Occured division by zero\n",
      "Division is None\n"
     ]
    }
   ],
   "source": [
    "try:\n",
    "    a=10\n",
    "    b=0\n",
    "    c=a/b\n",
    "except Exception as e:\n",
    "    print(\"Exception Occured\",e)\n",
    "    z=None\n",
    "print(\"Division is\",z)"
   ]
  },
  {
   "cell_type": "code",
   "execution_count": 110,
   "metadata": {},
   "outputs": [
    {
     "name": "stdout",
     "output_type": "stream",
     "text": [
      "Division by Zero Exception\n",
      "Division is None\n"
     ]
    }
   ],
   "source": [
    "try:\n",
    "    a=10\n",
    "    b=0\n",
    "    c=a/b\n",
    "except ZeroDivisionError as e:\n",
    "    print(\"Division by Zero Exception\")\n",
    "    z=None\n",
    "print(\"Division is\",z)"
   ]
  },
  {
   "cell_type": "code",
   "execution_count": 111,
   "metadata": {},
   "outputs": [
    {
     "name": "stdout",
     "output_type": "stream",
     "text": [
      "Division by Zero Exception\n",
      "Division is None\n"
     ]
    }
   ],
   "source": [
    "try:\n",
    "    a=10\n",
    "    b=0\n",
    "    c=a/b\n",
    "except ZeroDivisionError as e:\n",
    "    print(\"Division by Zero Exception\")\n",
    "except TypeError as e:\n",
    "    print(\"Type error Exception\")\n",
    "    z=None\n",
    "print(\"Division is\",z)"
   ]
  },
  {
   "cell_type": "code",
   "execution_count": 112,
   "metadata": {},
   "outputs": [
    {
     "name": "stdout",
     "output_type": "stream",
     "text": [
      "Memory Error\n"
     ]
    }
   ],
   "source": [
    "try:\n",
    "    raise MemoryError('Memory Error')\n",
    "except MemoryError as e:\n",
    "    print(e)"
   ]
  },
  {
   "cell_type": "code",
   "execution_count": 113,
   "metadata": {},
   "outputs": [
    {
     "name": "stdout",
     "output_type": "stream",
     "text": [
      "Memory Error\n"
     ]
    }
   ],
   "source": [
    "try:\n",
    "    raise Exception('Memory Error')\n",
    "except Exception as e:\n",
    "    print(e)"
   ]
  },
  {
   "cell_type": "code",
   "execution_count": 114,
   "metadata": {},
   "outputs": [
    {
     "name": "stdout",
     "output_type": "stream",
     "text": [
      "Accident Occurred\n"
     ]
    }
   ],
   "source": [
    "class Accident(Exception):\n",
    "    def __init__(self,msg):\n",
    "        self.msg=msg\n",
    "    def handle(self):\n",
    "        print(\"Accident Occurred\")\n",
    "try:\n",
    "    raise Accident('Car')\n",
    "except Accident as e:\n",
    "    e.handle()"
   ]
  },
  {
   "cell_type": "code",
   "execution_count": 115,
   "metadata": {},
   "outputs": [
    {
     "name": "stdout",
     "output_type": "stream",
     "text": [
      "Accident Occurred\n",
      "I am Happy\n"
     ]
    }
   ],
   "source": [
    "class Accident(Exception):\n",
    "    def __init__(self,msg):\n",
    "        self.msg=msg\n",
    "    def handle(self):\n",
    "        print(\"Accident Occurred\")\n",
    "try:\n",
    "    raise Accident('Car')\n",
    "except Accident as e:\n",
    "    e.handle()\n",
    "finally:\n",
    "    print(\"I am Happy\")"
   ]
  },
  {
   "cell_type": "code",
   "execution_count": 116,
   "metadata": {},
   "outputs": [
    {
     "name": "stdout",
     "output_type": "stream",
     "text": [
      "Allu Arjun shoots a film\n",
      "Allu Arjun says how are you\n"
     ]
    }
   ],
   "source": [
    "class Human:\n",
    "    def __init__(self,name,occupation):\n",
    "        self.name=name\n",
    "        self.occupation=occupation\n",
    "    def method1(self,):\n",
    "        if self.occupation==\"tennis_player\":\n",
    "            print(self.name,\"plays tennis\")\n",
    "        elif self.occupation==\"actor\":\n",
    "            print(self.name,\"shoots a film\")\n",
    "    def speaks(self):\n",
    "        print(self.name,\"says how are you\")\n",
    "a=Human(\"Allu Arjun\",\"actor\")\n",
    "a.method1()\n",
    "a.speaks()"
   ]
  },
  {
   "cell_type": "code",
   "execution_count": 117,
   "metadata": {},
   "outputs": [
    {
     "name": "stdout",
     "output_type": "stream",
     "text": [
      "Sania Mirza plays tennis\n",
      "Sania Mirza says how are you\n"
     ]
    }
   ],
   "source": [
    "b=Human(\"Sania Mirza\",\"tennis_player\")\n",
    "b.method1()\n",
    "b.speaks()"
   ]
  },
  {
   "cell_type": "code",
   "execution_count": 118,
   "metadata": {},
   "outputs": [
    {
     "name": "stdout",
     "output_type": "stream",
     "text": [
      "This is Car\n",
      "generally used for Transportation\n",
      "Specifically used for work or family trips\n"
     ]
    }
   ],
   "source": [
    "class vehicle:\n",
    "    def general_usage(self):\n",
    "        print(\"generally used for Transportation\")\n",
    "class Car(vehicle):\n",
    "    def __init__(self):\n",
    "        print(\"This is Car\")\n",
    "        self.wheels=4\n",
    "        self.has_roof=True\n",
    "    def specific_use(self):\n",
    "        print(\"Specifically used for work or family trips\")\n",
    "class Bike(vehicle):\n",
    "    def __init__(self):\n",
    "        print(\"This is Bike\")\n",
    "        self.wheels=2\n",
    "        self.has_roof=False\n",
    "    def specific_use(self):\n",
    "        print(\"Generally used\")\n",
    "a=Car()\n",
    "a.general_usage()\n",
    "a.specific_use()"
   ]
  },
  {
   "cell_type": "code",
   "execution_count": 119,
   "metadata": {},
   "outputs": [
    {
     "name": "stdout",
     "output_type": "stream",
     "text": [
      "This is Bike\n",
      "generally used for Transportation\n",
      "Generally used\n"
     ]
    }
   ],
   "source": [
    "b=Bike()\n",
    "b.general_usage()\n",
    "b.specific_use()"
   ]
  },
  {
   "cell_type": "code",
   "execution_count": 120,
   "metadata": {},
   "outputs": [
    {
     "name": "stdout",
     "output_type": "stream",
     "text": [
      "This is Car\n",
      "generally used for Transportation\n",
      "Specifically used for work or family trips\n"
     ]
    }
   ],
   "source": [
    "class vehicle:\n",
    "    def general_usage(self):\n",
    "        print(\"generally used for Transportation\")\n",
    "class Car(vehicle):\n",
    "    def __init__(self):\n",
    "        print(\"This is Car\")\n",
    "        self.wheels=4\n",
    "        self.has_roof=True\n",
    "    def specific_use(self):\n",
    "        self.general_usage()\n",
    "        print(\"Specifically used for work or family trips\")\n",
    "class Bike(vehicle):\n",
    "    def __init__(self):\n",
    "        print(\"This is Bike\")\n",
    "        self.wheels=2\n",
    "        self.has_roof=False\n",
    "    def specific_use(self):\n",
    "        self.general_usage()\n",
    "        print(\"Generally used\")\n",
    "a=Car()\n",
    "a.specific_use()"
   ]
  },
  {
   "cell_type": "code",
   "execution_count": 121,
   "metadata": {},
   "outputs": [
    {
     "name": "stdout",
     "output_type": "stream",
     "text": [
      "This is Bike\n",
      "generally used for Transportation\n",
      "Generally used\n"
     ]
    }
   ],
   "source": [
    "b=Bike()\n",
    "b.specific_use()"
   ]
  },
  {
   "cell_type": "code",
   "execution_count": 122,
   "metadata": {},
   "outputs": [
    {
     "name": "stdout",
     "output_type": "stream",
     "text": [
      "This is Car\n",
      "This is Bike\n",
      "True\n"
     ]
    }
   ],
   "source": [
    "class vehicle:\n",
    "    def general_usage(self):\n",
    "        print(\"generally used for Transportation\")\n",
    "class Car(vehicle):\n",
    "    def __init__(self):\n",
    "        print(\"This is Car\")\n",
    "        self.wheels=4\n",
    "        self.has_roof=True\n",
    "    def specific_use(self):\n",
    "        self.general_usage()\n",
    "        print(\"Specifically used for work or family trips\")\n",
    "class Bike(vehicle):\n",
    "    def __init__(self):\n",
    "        print(\"This is Bike\")\n",
    "        self.wheels=2\n",
    "        self.has_roof=False\n",
    "    def specific_use(self):\n",
    "        self.general_usage()\n",
    "        print(\"Generally used\")\n",
    "c=Car()\n",
    "b=Bike()\n",
    "print(isinstance(c,Car))"
   ]
  },
  {
   "cell_type": "code",
   "execution_count": 123,
   "metadata": {},
   "outputs": [
    {
     "name": "stdout",
     "output_type": "stream",
     "text": [
      "False\n"
     ]
    }
   ],
   "source": [
    "print(isinstance(c,Bike))"
   ]
  },
  {
   "cell_type": "code",
   "execution_count": 124,
   "metadata": {},
   "outputs": [
    {
     "name": "stdout",
     "output_type": "stream",
     "text": [
      "True\n"
     ]
    }
   ],
   "source": [
    "print(isinstance(b,Bike))"
   ]
  },
  {
   "cell_type": "code",
   "execution_count": 125,
   "metadata": {},
   "outputs": [
    {
     "name": "stdout",
     "output_type": "stream",
     "text": [
      "False\n"
     ]
    }
   ],
   "source": [
    "print(issubclass(Car,Bike))"
   ]
  },
  {
   "cell_type": "code",
   "execution_count": 126,
   "metadata": {},
   "outputs": [
    {
     "name": "stdout",
     "output_type": "stream",
     "text": [
      "False\n"
     ]
    }
   ],
   "source": [
    "print(issubclass(Bike,Car))"
   ]
  },
  {
   "cell_type": "code",
   "execution_count": 127,
   "metadata": {},
   "outputs": [
    {
     "name": "stdout",
     "output_type": "stream",
     "text": [
      "False\n"
     ]
    }
   ],
   "source": [
    "print(issubclass(vehicle,Car))"
   ]
  },
  {
   "cell_type": "code",
   "execution_count": 128,
   "metadata": {},
   "outputs": [
    {
     "name": "stdout",
     "output_type": "stream",
     "text": [
      "True\n"
     ]
    }
   ],
   "source": [
    "print(issubclass(Car,vehicle))"
   ]
  },
  {
   "cell_type": "code",
   "execution_count": 129,
   "metadata": {},
   "outputs": [
    {
     "name": "stdout",
     "output_type": "stream",
     "text": [
      "True\n"
     ]
    }
   ],
   "source": [
    "print(issubclass(Bike,vehicle))"
   ]
  },
  {
   "cell_type": "code",
   "execution_count": 130,
   "metadata": {},
   "outputs": [
    {
     "name": "stdout",
     "output_type": "stream",
     "text": [
      "I enjoy Gardening\n",
      "I love Cooking\n",
      "I love Playing\n"
     ]
    }
   ],
   "source": [
    "class Father():\n",
    "    def gardening(self):\n",
    "        print(\"I enjoy Gardening\")\n",
    "class Mother():\n",
    "    def cooking(self):\n",
    "        print(\"I love Cooking\")\n",
    "class Child(Father,Mother):\n",
    "    def play(self):\n",
    "        print(\"I love Playing\")\n",
    "a=Child()\n",
    "a.gardening()\n",
    "a.cooking()\n",
    "a.play()"
   ]
  },
  {
   "cell_type": "code",
   "execution_count": 131,
   "metadata": {},
   "outputs": [
    {
     "name": "stdout",
     "output_type": "stream",
     "text": [
      "I enjoy Gardening\n",
      "I love Cooking\n",
      "I love Playing\n"
     ]
    }
   ],
   "source": [
    "class Father():\n",
    "    def gardening(self):\n",
    "        print(\"I enjoy Gardening\")\n",
    "class Mother():\n",
    "    def cooking(self):\n",
    "        print(\"I love Cooking\")\n",
    "class Child(Father,Mother):\n",
    "    def play(self):\n",
    "        b.gardening()\n",
    "        b.cooking()\n",
    "        print(\"I love Playing\")\n",
    "b=Child()\n",
    "b.play()"
   ]
  },
  {
   "cell_type": "code",
   "execution_count": 132,
   "metadata": {},
   "outputs": [
    {
     "name": "stdout",
     "output_type": "stream",
     "text": [
      "I enjoy Gardening\n",
      "I love Cooking\n",
      "I love Playing\n"
     ]
    }
   ],
   "source": [
    "class Father():\n",
    "    def gardening(self):\n",
    "        print(\"I enjoy Gardening\")\n",
    "class Mother():\n",
    "    def cooking(self):\n",
    "        print(\"I love Cooking\")\n",
    "class Child(Father,Mother):\n",
    "    def play(self):\n",
    "        self.gardening()\n",
    "        self.cooking()\n",
    "        print(\"I love Playing\")\n",
    "b=Child()\n",
    "b.play()"
   ]
  },
  {
   "cell_type": "code",
   "execution_count": 133,
   "metadata": {},
   "outputs": [
    {
     "name": "stdout",
     "output_type": "stream",
     "text": [
      "I enjoy Gardening\n",
      "I love Cooking\n",
      "I love Playing\n"
     ]
    }
   ],
   "source": [
    "class Father():\n",
    "    def gardening(self):\n",
    "        print(\"I enjoy Gardening\")\n",
    "class Mother():\n",
    "    def cooking(self):\n",
    "        print(\"I love Cooking\")\n",
    "class Child(Father,Mother):\n",
    "    def play(self):\n",
    "        Father.gardening(self)\n",
    "        Mother.cooking(self)\n",
    "        print(\"I love Playing\")\n",
    "b=Child()\n",
    "b.play()"
   ]
  },
  {
   "cell_type": "code",
   "execution_count": 134,
   "metadata": {},
   "outputs": [
    {
     "name": "stdout",
     "output_type": "stream",
     "text": [
      "I love Playing\n"
     ]
    }
   ],
   "source": [
    "class Father():\n",
    "    def gardening(self):\n",
    "        print(\"I enjoy Gardening\")\n",
    "class Mother():\n",
    "    def cooking(self):\n",
    "        print(\"I love Cooking\")\n",
    "class Child(Father,Mother):\n",
    "    def play(self):\n",
    "        print(\"I love Playing\")\n",
    "b=Child()\n",
    "b.play()"
   ]
  },
  {
   "cell_type": "code",
   "execution_count": 135,
   "metadata": {},
   "outputs": [
    {
     "name": "stdout",
     "output_type": "stream",
     "text": [
      "Raja\n",
      "Nivi\n",
      "Rishi\n",
      "Dharani\n"
     ]
    }
   ],
   "source": [
    "r=[\"Raja\",\"Nivi\",\"Rishi\",\"Dharani\"]\n",
    "for i in r:\n",
    "    print(i)"
   ]
  },
  {
   "cell_type": "code",
   "execution_count": 136,
   "metadata": {},
   "outputs": [
    {
     "data": {
      "text/plain": [
       "<list_iterator at 0x1d09e61b6a0>"
      ]
     },
     "execution_count": 136,
     "metadata": {},
     "output_type": "execute_result"
    }
   ],
   "source": [
    "s=iter(r)\n",
    "s"
   ]
  },
  {
   "cell_type": "code",
   "execution_count": 137,
   "metadata": {},
   "outputs": [
    {
     "data": {
      "text/plain": [
       "'Raja'"
      ]
     },
     "execution_count": 137,
     "metadata": {},
     "output_type": "execute_result"
    }
   ],
   "source": [
    "next(s)"
   ]
  },
  {
   "cell_type": "code",
   "execution_count": 138,
   "metadata": {},
   "outputs": [
    {
     "data": {
      "text/plain": [
       "'Nivi'"
      ]
     },
     "execution_count": 138,
     "metadata": {},
     "output_type": "execute_result"
    }
   ],
   "source": [
    "next(s)"
   ]
  },
  {
   "cell_type": "code",
   "execution_count": 139,
   "metadata": {},
   "outputs": [
    {
     "data": {
      "text/plain": [
       "'Rishi'"
      ]
     },
     "execution_count": 139,
     "metadata": {},
     "output_type": "execute_result"
    }
   ],
   "source": [
    "next(s)"
   ]
  },
  {
   "cell_type": "code",
   "execution_count": 140,
   "metadata": {},
   "outputs": [
    {
     "data": {
      "text/plain": [
       "'Dharani'"
      ]
     },
     "execution_count": 140,
     "metadata": {},
     "output_type": "execute_result"
    }
   ],
   "source": [
    "next(s)"
   ]
  },
  {
   "cell_type": "code",
   "execution_count": 141,
   "metadata": {},
   "outputs": [
    {
     "data": {
      "text/plain": [
       "<list_reverseiterator at 0x1d09e613460>"
      ]
     },
     "execution_count": 141,
     "metadata": {},
     "output_type": "execute_result"
    }
   ],
   "source": [
    "c=reversed(r)\n",
    "c"
   ]
  },
  {
   "cell_type": "code",
   "execution_count": 142,
   "metadata": {},
   "outputs": [
    {
     "data": {
      "text/plain": [
       "'Dharani'"
      ]
     },
     "execution_count": 142,
     "metadata": {},
     "output_type": "execute_result"
    }
   ],
   "source": [
    "next(c)"
   ]
  },
  {
   "cell_type": "code",
   "execution_count": 143,
   "metadata": {},
   "outputs": [
    {
     "data": {
      "text/plain": [
       "'Rishi'"
      ]
     },
     "execution_count": 143,
     "metadata": {},
     "output_type": "execute_result"
    }
   ],
   "source": [
    "next(c)"
   ]
  },
  {
   "cell_type": "code",
   "execution_count": 144,
   "metadata": {},
   "outputs": [
    {
     "data": {
      "text/plain": [
       "'Nivi'"
      ]
     },
     "execution_count": 144,
     "metadata": {},
     "output_type": "execute_result"
    }
   ],
   "source": [
    "next(c)"
   ]
  },
  {
   "cell_type": "code",
   "execution_count": 145,
   "metadata": {},
   "outputs": [
    {
     "data": {
      "text/plain": [
       "'Raja'"
      ]
     },
     "execution_count": 145,
     "metadata": {},
     "output_type": "execute_result"
    }
   ],
   "source": [
    "next(c)"
   ]
  },
  {
   "cell_type": "code",
   "execution_count": 146,
   "metadata": {},
   "outputs": [
    {
     "name": "stdout",
     "output_type": "stream",
     "text": [
      "HBO\n"
     ]
    }
   ],
   "source": [
    "class RemoteControl():\n",
    "    def __init__(self):\n",
    "        self.channels=[\"HBO\",\"CNN\",\"ABC\",\"ESPN\"]\n",
    "        self.index=-1\n",
    "    def __iter__(self):\n",
    "        return self\n",
    "    def __next__(self):\n",
    "        self.index+=1\n",
    "        if self.index==len(self.channels):\n",
    "            raise StopIteration\n",
    "        return self.channels[self.index]\n",
    "r=RemoteControl()\n",
    "itr=iter(r)\n",
    "print(next(itr))"
   ]
  },
  {
   "cell_type": "code",
   "execution_count": 147,
   "metadata": {},
   "outputs": [
    {
     "name": "stdout",
     "output_type": "stream",
     "text": [
      "CNN\n"
     ]
    }
   ],
   "source": [
    "print(next(itr))"
   ]
  },
  {
   "cell_type": "code",
   "execution_count": 148,
   "metadata": {},
   "outputs": [
    {
     "name": "stdout",
     "output_type": "stream",
     "text": [
      "ABC\n"
     ]
    }
   ],
   "source": [
    "print(next(itr))"
   ]
  },
  {
   "cell_type": "code",
   "execution_count": 149,
   "metadata": {},
   "outputs": [
    {
     "name": "stdout",
     "output_type": "stream",
     "text": [
      "ESPN\n"
     ]
    }
   ],
   "source": [
    "print(next(itr))"
   ]
  },
  {
   "cell_type": "code",
   "execution_count": 150,
   "metadata": {},
   "outputs": [
    {
     "data": {
      "text/plain": [
       "'CNN'"
      ]
     },
     "execution_count": 150,
     "metadata": {},
     "output_type": "execute_result"
    }
   ],
   "source": [
    "def remote_control():\n",
    "    yield \"CNN\"\n",
    "    yield \"ESPN\"\n",
    "itr=remote_control()\n",
    "next(itr)"
   ]
  },
  {
   "cell_type": "code",
   "execution_count": 151,
   "metadata": {},
   "outputs": [
    {
     "data": {
      "text/plain": [
       "'ESPN'"
      ]
     },
     "execution_count": 151,
     "metadata": {},
     "output_type": "execute_result"
    }
   ],
   "source": [
    "next(itr)"
   ]
  },
  {
   "cell_type": "code",
   "execution_count": 152,
   "metadata": {},
   "outputs": [
    {
     "name": "stdout",
     "output_type": "stream",
     "text": [
      "CNN\n",
      "ESPN\n"
     ]
    }
   ],
   "source": [
    "def remote_control():\n",
    "    yield \"CNN\"\n",
    "    yield \"ESPN\"\n",
    "for i in remote_control():\n",
    "    print(i)"
   ]
  },
  {
   "cell_type": "code",
   "execution_count": 153,
   "metadata": {},
   "outputs": [
    {
     "name": "stdout",
     "output_type": "stream",
     "text": [
      "0\n",
      "1\n",
      "1\n",
      "2\n",
      "3\n",
      "5\n",
      "8\n",
      "13\n"
     ]
    }
   ],
   "source": [
    "def fib():\n",
    "    a,b=0,1\n",
    "    while True:\n",
    "        yield a\n",
    "        a,b=b,a+b\n",
    "for i in fib():\n",
    "    if i>20:\n",
    "        break\n",
    "    print(i)"
   ]
  },
  {
   "cell_type": "code",
   "execution_count": 155,
   "metadata": {},
   "outputs": [
    {
     "data": {
      "text/plain": [
       "[2, 4]"
      ]
     },
     "execution_count": 155,
     "metadata": {},
     "output_type": "execute_result"
    }
   ],
   "source": [
    "a=[1,2,3,4,5]\n",
    "even=[]\n",
    "for i in a:\n",
    "    if i%2==0:\n",
    "        even.append(i)\n",
    "even"
   ]
  },
  {
   "cell_type": "code",
   "execution_count": 157,
   "metadata": {},
   "outputs": [
    {
     "data": {
      "text/plain": [
       "[2, 4, 6, 8]"
      ]
     },
     "execution_count": 157,
     "metadata": {},
     "output_type": "execute_result"
    }
   ],
   "source": [
    "a=[1,2,3,4,5,6,7,8,9]\n",
    "even=[i for i in a if i%2==0]\n",
    "even"
   ]
  },
  {
   "cell_type": "code",
   "execution_count": 159,
   "metadata": {},
   "outputs": [
    {
     "data": {
      "text/plain": [
       "[1, 4, 9, 16, 25, 36, 49, 64, 81]"
      ]
     },
     "execution_count": 159,
     "metadata": {},
     "output_type": "execute_result"
    }
   ],
   "source": [
    "square=[i*i for i in a]\n",
    "square"
   ]
  },
  {
   "cell_type": "code",
   "execution_count": 160,
   "metadata": {},
   "outputs": [
    {
     "data": {
      "text/plain": [
       "{1, 2, 3, 4, 5, 6, 7, 8, 9}"
      ]
     },
     "execution_count": 160,
     "metadata": {},
     "output_type": "execute_result"
    }
   ],
   "source": [
    "a=set([1,2,3,4,5,6,7,8,9])\n",
    "a"
   ]
  },
  {
   "cell_type": "code",
   "execution_count": 163,
   "metadata": {},
   "outputs": [
    {
     "data": {
      "text/plain": [
       "{2, 4, 6, 8}"
      ]
     },
     "execution_count": 163,
     "metadata": {},
     "output_type": "execute_result"
    }
   ],
   "source": [
    "even={ i for i in a if i%2==0}\n",
    "even"
   ]
  },
  {
   "cell_type": "code",
   "execution_count": 164,
   "metadata": {},
   "outputs": [
    {
     "data": {
      "text/plain": [
       "{1, 4, 9, 16, 25, 36, 49, 64, 81}"
      ]
     },
     "execution_count": 164,
     "metadata": {},
     "output_type": "execute_result"
    }
   ],
   "source": [
    "square={i*i for i in a}\n",
    "square"
   ]
  },
  {
   "cell_type": "code",
   "execution_count": 168,
   "metadata": {},
   "outputs": [
    {
     "data": {
      "text/plain": [
       "<zip at 0x1d09d5f39c0>"
      ]
     },
     "execution_count": 168,
     "metadata": {},
     "output_type": "execute_result"
    }
   ],
   "source": [
    "q=[\"Raja\",\"Neha\"]\n",
    "w=[\"Nivi\",\"Rishi\"]\n",
    "z=zip(q,w)\n",
    "z"
   ]
  },
  {
   "cell_type": "code",
   "execution_count": 169,
   "metadata": {},
   "outputs": [
    {
     "name": "stdout",
     "output_type": "stream",
     "text": [
      "('Raja', 'Nivi')\n",
      "('Neha', 'Rishi')\n"
     ]
    }
   ],
   "source": [
    "for i in z:\n",
    "    print(i)"
   ]
  },
  {
   "cell_type": "code",
   "execution_count": 171,
   "metadata": {},
   "outputs": [
    {
     "data": {
      "text/plain": [
       "{'Raja': 'Nivi', 'Neha': 'Rishi'}"
      ]
     },
     "execution_count": 171,
     "metadata": {},
     "output_type": "execute_result"
    }
   ],
   "source": [
    "d={me:you for me,you in zip(q,w)}\n",
    "d"
   ]
  },
  {
   "cell_type": "code",
   "execution_count": 172,
   "metadata": {},
   "outputs": [
    {
     "data": {
      "text/plain": [
       "set"
      ]
     },
     "execution_count": 172,
     "metadata": {},
     "output_type": "execute_result"
    }
   ],
   "source": [
    "fruits={\"orange\",\"apple\",\"mango\",\"apple\",\"orange\"}\n",
    "type(fruits)"
   ]
  },
  {
   "cell_type": "code",
   "execution_count": 173,
   "metadata": {},
   "outputs": [
    {
     "data": {
      "text/plain": [
       "{'apple', 'mango', 'orange'}"
      ]
     },
     "execution_count": 173,
     "metadata": {},
     "output_type": "execute_result"
    }
   ],
   "source": [
    "fruits"
   ]
  },
  {
   "cell_type": "code",
   "execution_count": 174,
   "metadata": {},
   "outputs": [
    {
     "data": {
      "text/plain": [
       "{1, 2}"
      ]
     },
     "execution_count": 174,
     "metadata": {},
     "output_type": "execute_result"
    }
   ],
   "source": [
    "a=set()\n",
    "a.add(1)\n",
    "a.add(2)\n",
    "a"
   ]
  },
  {
   "cell_type": "code",
   "execution_count": 176,
   "metadata": {},
   "outputs": [
    {
     "data": {
      "text/plain": [
       "{1, 2, 3, 4}"
      ]
     },
     "execution_count": 176,
     "metadata": {},
     "output_type": "execute_result"
    }
   ],
   "source": [
    "s=[1,2,3,3,2,4]\n",
    "unique_numbers=set(s)\n",
    "unique_numbers"
   ]
  },
  {
   "cell_type": "code",
   "execution_count": 177,
   "metadata": {},
   "outputs": [
    {
     "data": {
      "text/plain": [
       "{1, 2, 3, 4, 5}"
      ]
     },
     "execution_count": 177,
     "metadata": {},
     "output_type": "execute_result"
    }
   ],
   "source": [
    "unique_numbers.add(5)\n",
    "unique_numbers"
   ]
  },
  {
   "cell_type": "code",
   "execution_count": 179,
   "metadata": {},
   "outputs": [
    {
     "data": {
      "text/plain": [
       "frozenset({4, 5, 6, 7})"
      ]
     },
     "execution_count": 179,
     "metadata": {},
     "output_type": "execute_result"
    }
   ],
   "source": [
    "fs=frozenset({4,5,6,7})\n",
    "fs"
   ]
  },
  {
   "cell_type": "code",
   "execution_count": 181,
   "metadata": {},
   "outputs": [
    {
     "data": {
      "text/plain": [
       "{'a', 'j', 'r'}"
      ]
     },
     "execution_count": 181,
     "metadata": {},
     "output_type": "execute_result"
    }
   ],
   "source": [
    "a={\"r\",\"a\",\"j\",\"a\"}\n",
    "a"
   ]
  },
  {
   "cell_type": "code",
   "execution_count": 183,
   "metadata": {},
   "outputs": [
    {
     "data": {
      "text/plain": [
       "True"
      ]
     },
     "execution_count": 183,
     "metadata": {},
     "output_type": "execute_result"
    }
   ],
   "source": [
    "'a' in a"
   ]
  },
  {
   "cell_type": "code",
   "execution_count": 184,
   "metadata": {},
   "outputs": [
    {
     "data": {
      "text/plain": [
       "False"
      ]
     },
     "execution_count": 184,
     "metadata": {},
     "output_type": "execute_result"
    }
   ],
   "source": [
    "'k' in a"
   ]
  },
  {
   "cell_type": "code",
   "execution_count": 186,
   "metadata": {},
   "outputs": [
    {
     "data": {
      "text/plain": [
       "{'a', 'j', 'r'}"
      ]
     },
     "execution_count": 186,
     "metadata": {},
     "output_type": "execute_result"
    }
   ],
   "source": [
    "a"
   ]
  },
  {
   "cell_type": "code",
   "execution_count": 187,
   "metadata": {},
   "outputs": [
    {
     "name": "stdout",
     "output_type": "stream",
     "text": [
      "r\n",
      "a\n",
      "j\n"
     ]
    }
   ],
   "source": [
    "for i in a:\n",
    "    print(i)"
   ]
  },
  {
   "cell_type": "code",
   "execution_count": 189,
   "metadata": {},
   "outputs": [
    {
     "data": {
      "text/plain": [
       "{'a', 'b', 'c', 'e', 'f'}"
      ]
     },
     "execution_count": 189,
     "metadata": {},
     "output_type": "execute_result"
    }
   ],
   "source": [
    "x={'a','b','c'}\n",
    "y={'a','e','f'}\n",
    "x|y"
   ]
  },
  {
   "cell_type": "code",
   "execution_count": 190,
   "metadata": {},
   "outputs": [
    {
     "data": {
      "text/plain": [
       "{'a'}"
      ]
     },
     "execution_count": 190,
     "metadata": {},
     "output_type": "execute_result"
    }
   ],
   "source": [
    "x&y"
   ]
  },
  {
   "cell_type": "code",
   "execution_count": 191,
   "metadata": {},
   "outputs": [
    {
     "data": {
      "text/plain": [
       "{'b', 'c'}"
      ]
     },
     "execution_count": 191,
     "metadata": {},
     "output_type": "execute_result"
    }
   ],
   "source": [
    "x-y"
   ]
  },
  {
   "cell_type": "code",
   "execution_count": 192,
   "metadata": {},
   "outputs": [
    {
     "data": {
      "text/plain": [
       "{'e', 'f'}"
      ]
     },
     "execution_count": 192,
     "metadata": {},
     "output_type": "execute_result"
    }
   ],
   "source": [
    "y-x"
   ]
  },
  {
   "cell_type": "code",
   "execution_count": 193,
   "metadata": {},
   "outputs": [
    {
     "data": {
      "text/plain": [
       "False"
      ]
     },
     "execution_count": 193,
     "metadata": {},
     "output_type": "execute_result"
    }
   ],
   "source": [
    "x<y"
   ]
  },
  {
   "cell_type": "code",
   "execution_count": 194,
   "metadata": {},
   "outputs": [
    {
     "data": {
      "text/plain": [
       "False"
      ]
     },
     "execution_count": 194,
     "metadata": {},
     "output_type": "execute_result"
    }
   ],
   "source": [
    "x>y"
   ]
  },
  {
   "cell_type": "code",
   "execution_count": 197,
   "metadata": {},
   "outputs": [
    {
     "data": {
      "text/plain": [
       "True"
      ]
     },
     "execution_count": 197,
     "metadata": {},
     "output_type": "execute_result"
    }
   ],
   "source": [
    "x==y"
   ]
  },
  {
   "cell_type": "code",
   "execution_count": 202,
   "metadata": {},
   "outputs": [
    {
     "name": "stdout",
     "output_type": "stream",
     "text": [
      "calc_square took 22.171735763549805mil sec\n",
      "calc_cube took 31.241655349731445mil sec\n"
     ]
    }
   ],
   "source": [
    "import time\n",
    "def time_it(func):\n",
    "    def wrapper(*args, **kwargs):\n",
    "        start = time.time()\n",
    "        result = func(*args,**kwargs)\n",
    "        end = time.time()\n",
    "        print(func.__name__ +\" took \" + str((end-start)*1000) + \"mil sec\")\n",
    "        return result\n",
    "    return wrapper\n",
    "\n",
    "@time_it\n",
    "def calc_square(numbers):\n",
    "    result = []\n",
    "    for number in numbers:\n",
    "        result.append(number*number)\n",
    "    return result\n",
    "\n",
    "@time_it\n",
    "def calc_cube(numbers):\n",
    "    result = []\n",
    "    for number in numbers:\n",
    "        result.append(number*number*number)\n",
    "    return result\n",
    "\n",
    "array = range(1,100000)\n",
    "out_square = calc_square(array)\n",
    "out_cube = calc_cube(array)"
   ]
  },
  {
   "cell_type": "code",
   "execution_count": 207,
   "metadata": {},
   "outputs": [
    {
     "name": "stdout",
     "output_type": "stream",
     "text": [
      "Calculate Square of numbers\n",
      "square: 1\n",
      "square: 4\n",
      "square: 9\n",
      "square: 16\n",
      "square: 25\n",
      "square: 36\n",
      "square: 49\n",
      "Calculate Cube of numbers\n",
      "Cube: 1\n",
      "Cube: 8\n",
      "Cube: 27\n",
      "Cube: 64\n",
      "Cube: 125\n",
      "Cube: 216\n",
      "Cube: 343\n",
      "done in : 2.899003505706787\n"
     ]
    }
   ],
   "source": [
    "import time\n",
    "def square(numbers):\n",
    "    print(\"Calculate Square of numbers\")\n",
    "    for i in numbers:\n",
    "        time.sleep(0.2)\n",
    "        print('square:',i*i)\n",
    "def cube(numbers):\n",
    "    print(\"Calculate Cube of numbers\")\n",
    "    for i in numbers:\n",
    "        time.sleep(0.2)\n",
    "        print('Cube:',i*i*i)\n",
    "arr=[1,2,3,4,5,6,7]\n",
    "t=time.time()\n",
    "square(arr)\n",
    "cube(arr)\n",
    "print(\"done in :\",time.time()-t)"
   ]
  },
  {
   "cell_type": "code",
   "execution_count": 208,
   "metadata": {},
   "outputs": [
    {
     "name": "stdout",
     "output_type": "stream",
     "text": [
      "Calculate Square of numbersCalculate Cube of numbers\n",
      "done in : 0.23783493041992188\n",
      "\n",
      "square:Cube: 1\n",
      " 1\n",
      "Cube: 8\n",
      "square: 4\n",
      "Cube:square: 9\n",
      " 27\n",
      "square:Cube: 16\n",
      " 64\n",
      "square:Cube: 25\n",
      " 125\n",
      "Cube:square: 36\n",
      " 216\n",
      "square: 49\n",
      "Cube: 343\n"
     ]
    }
   ],
   "source": [
    "import time\n",
    "import threading\n",
    "def square(numbers):\n",
    "    print(\"Calculate Square of numbers\")\n",
    "    for i in numbers:\n",
    "        time.sleep(0.2)\n",
    "        print('square:',i*i)\n",
    "def cube(numbers):\n",
    "    print(\"Calculate Cube of numbers\")\n",
    "    for i in numbers:\n",
    "        time.sleep(0.2)\n",
    "        print('Cube:',i*i*i)\n",
    "arr=[1,2,3,4,5,6,7]\n",
    "t=time.time()\n",
    "t1=threading.Thread(target=square,args=(arr,))\n",
    "t2=threading.Thread(target=cube,args=(arr,))\n",
    "t1.start()\n",
    "t2.start()\n",
    "print(\"done in :\",time.time()-t)"
   ]
  },
  {
   "cell_type": "code",
   "execution_count": 209,
   "metadata": {},
   "outputs": [
    {
     "name": "stdout",
     "output_type": "stream",
     "text": [
      "Calculate Square of numbers\n",
      "Calculate Cube of numbers\n",
      "square: 1\n",
      "Cube: 1\n",
      "Cube: 8\n",
      "square: 4\n",
      "Cube:square: 9\n",
      " 27\n",
      "square: 16\n",
      "Cube: 64\n",
      "Cube:square: 25\n",
      " 125\n",
      "Cube: 216\n",
      "square: 36\n",
      "Cube:square: 49\n",
      " 343\n",
      "done in : 1.4534711837768555\n"
     ]
    }
   ],
   "source": [
    "import time\n",
    "import threading\n",
    "def square(numbers):\n",
    "    print(\"Calculate Square of numbers\")\n",
    "    for i in numbers:\n",
    "        time.sleep(0.2)\n",
    "        print('square:',i*i)\n",
    "def cube(numbers):\n",
    "    print(\"Calculate Cube of numbers\")\n",
    "    for i in numbers:\n",
    "        time.sleep(0.2)\n",
    "        print('Cube:',i*i*i)\n",
    "arr=[1,2,3,4,5,6,7]\n",
    "t=time.time()\n",
    "t1=threading.Thread(target=square,args=(arr,))\n",
    "t2=threading.Thread(target=cube,args=(arr,))\n",
    "t1.start()\n",
    "t2.start()\n",
    "t1.join()\n",
    "t2.join()\n",
    "print(\"done in :\",time.time()-t)"
   ]
  },
  {
   "cell_type": "code",
   "execution_count": 210,
   "metadata": {},
   "outputs": [
    {
     "name": "stdout",
     "output_type": "stream",
     "text": [
      "square: 1\n",
      "square: 4\n",
      "square: 9\n",
      "square: 16\n",
      "square: 25\n",
      "square: 36\n",
      "square: 49\n",
      "Cube: 1\n",
      "Cube: 8\n",
      "Cube: 27\n",
      "Cube: 64\n",
      "Cube: 125\n",
      "Cube: 216\n",
      "Cube: 343\n"
     ]
    }
   ],
   "source": [
    "import threading\n",
    "def square(numbers):\n",
    "    for i in numbers:\n",
    "        print('square:',i*i)\n",
    "def cube(numbers):\n",
    "    for i in numbers:\n",
    "        print('Cube:',i*i*i)\n",
    "if __name__=='__main__':\n",
    "    arr=[1,2,3,4,5,6,7]\n",
    "    t1=threading.Thread(target=square,args=(arr,))\n",
    "    t2=threading.Thread(target=cube,args=(arr,))\n",
    "    t1.start()\n",
    "    t2.start()\n",
    "    t1.join()\n",
    "    t2.join()"
   ]
  },
  {
   "cell_type": "code",
   "execution_count": 231,
   "metadata": {},
   "outputs": [],
   "source": [
    "import multiprocessing\n",
    "def square(numbers):\n",
    "    for i in numbers:\n",
    "        print('square:',i*i)\n",
    "def cube(numbers):\n",
    "    for i in numbers:\n",
    "        print('Cube:',i*i*i)\n",
    "if __name__=='__main__':\n",
    "    arr=[1,2,3,4,5,6,7]\n",
    "    t1=multiprocessing.Process(target=square,args=(arr,))\n",
    "    t2=multiprocessing.Process(target=cube,args=(arr,))\n",
    "    t1.start()\n",
    "    t2.start()\n",
    "    t1.join()\n",
    "    t2.join()"
   ]
  },
  {
   "cell_type": "code",
   "execution_count": null,
   "metadata": {},
   "outputs": [],
   "source": []
  }
 ],
 "metadata": {
  "kernelspec": {
   "display_name": "Python 3",
   "language": "python",
   "name": "python3"
  },
  "language_info": {
   "codemirror_mode": {
    "name": "ipython",
    "version": 3
   },
   "file_extension": ".py",
   "mimetype": "text/x-python",
   "name": "python",
   "nbconvert_exporter": "python",
   "pygments_lexer": "ipython3",
   "version": "3.8.5"
  }
 },
 "nbformat": 4,
 "nbformat_minor": 4
}
